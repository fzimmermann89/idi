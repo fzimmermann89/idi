{
 "cells": [
  {
   "cell_type": "markdown",
   "metadata": {},
   "source": [
    "**setup**"
   ]
  },
  {
   "cell_type": "code",
   "execution_count": null,
   "metadata": {},
   "outputs": [],
   "source": [
    "import glob\n",
    "import numpy as np\n"
   ]
  },
  {
   "cell_type": "code",
   "execution_count": null,
   "metadata": {},
   "outputs": [],
   "source": [
    "basepath='/reg/neh/home/zimmf/simulation'                            #absolute path to python files\n",
    "scratchpath='/reg/d/psdm/amo/amolr9316/scratch/zimmf/sphere2/'          #path to simulation results\n",
    "files=glob.glob(\"%s/sphere1-??.npz\"%scratchpath)                       #simulation results"
   ]
  },
  {
   "cell_type": "code",
   "execution_count": null,
   "metadata": {},
   "outputs": [],
   "source": [
    "photons=[1e4,1e5] #number of photons used in the simulation\n",
    "bins=[2,0]        #binning by a factor of 2^n in each direction"
   ]
  },
  {
   "cell_type": "markdown",
   "metadata": {},
   "source": [
    "**show input files**"
   ]
  },
  {
   "cell_type": "code",
   "execution_count": null,
   "metadata": {},
   "outputs": [],
   "source": [
    "N=0\n",
    "for f in files:\n",
    "    s=np.load(f)['settings'][0]\n",
    "    print (f,s)\n",
    "    N=N+s.Nimg\n",
    "print('found %i files with a total of %i images'%(len(files),N))"
   ]
  },
  {
   "cell_type": "markdown",
   "metadata": {},
   "source": [
    "**phase 1** (calculation of the correlations for each simulated image)"
   ]
  },
  {
   "cell_type": "code",
   "execution_count": null,
   "metadata": {},
   "outputs": [],
   "source": [
    "from collections import deque\n",
    "q=deque()\n",
    "for b in bins:\n",
    "    for p in photons:\n",
    "        for f in files:\n",
    "            cmd='%s/pythonwrapper.sh %s/recongrid.py -b %i -p 4 -N %i %s'%(basepath,basepath,b,p,f)\n",
    "            q.append(cmd)"
   ]
  },
  {
   "cell_type": "code",
   "execution_count": null,
   "metadata": {},
   "outputs": [],
   "source": [
    "print('will submit %i jobs'%len(q))"
   ]
  },
  {
   "cell_type": "code",
   "execution_count": null,
   "metadata": {},
   "outputs": [],
   "source": [
    "import subprocess\n",
    "for c in q: \n",
    "    proc=subprocess.call('/usr/local/bin/bsub -q psanaq -n 8 -o log/recongrid%%J.out %s'%c,shell=True)          \n",
    "    print (c,proc)\n",
    "print ('\\n submitted.')"
   ]
  },
  {
   "cell_type": "markdown",
   "metadata": {},
   "source": [
    " "
   ]
  },
  {
   "cell_type": "markdown",
   "metadata": {},
   "source": [
    "  "
   ]
  },
  {
   "cell_type": "markdown",
   "metadata": {},
   "source": [
    "# WAIT UNTIL ALL JOBS ARE DONE"
   ]
  },
  {
   "cell_type": "markdown",
   "metadata": {},
   "source": [
    " "
   ]
  },
  {
   "cell_type": "code",
   "execution_count": null,
   "metadata": {},
   "outputs": [],
   "source": [
    "%%bash\n",
    "echo \"running jobs:\"\n",
    "/usr/local/bin/bjobs -w|grep -o \"recongrid.*npz\""
   ]
  },
  {
   "cell_type": "markdown",
   "metadata": {},
   "source": [
    " "
   ]
  },
  {
   "cell_type": "markdown",
   "metadata": {},
   "source": [
    "**phase 2 - merging, normalisation and creating final result**"
   ]
  },
  {
   "cell_type": "code",
   "execution_count": null,
   "metadata": {},
   "outputs": [],
   "source": [
    "#get outputfiles of phase 1\n",
    "suffix=['' if b==0 else '-b%i'%b for b in bins]\n",
    "files2=[]\n",
    "for s in suffix:\n",
    "    for Np in photons:\n",
    "        tmp=[]\n",
    "        for f in files:\n",
    "            tmp.append(glob.glob(\"%s%s-%i-out.npz\"%(f,s,Np))[0])\n",
    "        files2.append(tmp)"
   ]
  },
  {
   "cell_type": "code",
   "execution_count": null,
   "metadata": {},
   "outputs": [],
   "source": [
    "print('found %i different settings'%len(files2))\n",
    "if not all([len(files2[0])==len(s) for s in files2]):\n",
    "    print('different number of intermediate files found. phase 1 finished?')\n",
    "else:\n",
    "    print('with %i files each'%len(files2[0]))"
   ]
  },
  {
   "cell_type": "code",
   "execution_count": null,
   "metadata": {},
   "outputs": [],
   "source": [
    "import subprocess\n",
    "from itertools import product\n",
    "import re\n",
    "\n",
    "for i,(s, Np) in enumerate(product(suffix, photons)):\n",
    "    curfiles=files2[i]\n",
    "    photonsum=0\n",
    "    corr=0\n",
    "    settings=None\n",
    "    simkeys=['a','r','rndphase','rndpos','Natoms','E','pixelsize','detz']\n",
    "    reconkeys=['bin','Nphotons']\n",
    "    \n",
    "    for f in curfiles:\n",
    "        print(f)\n",
    "        res=np.load(f)\n",
    "        photonsum+=res['photonsum']\n",
    "        corr+=res['corr']\n",
    "        \n",
    "        #ugly hack to fix stupid format of the settings\n",
    "        if settings==None:\n",
    "            settings={k:res['simsettings'].take(0)[k] for k in simkeys}\n",
    "            settings.update({k:res['reconsettings'][0][k] for k in reconkeys})\n",
    "            settings['Nimg']=0\n",
    "            settings['simtype']=res['simtype'].take(0)\n",
    "        for key in simkeys:\n",
    "            if not res['simsettings'].take(0)[key]==settings[key]:\n",
    "                raise ValueError('different simsettings: '+ key)\n",
    "        for key in reconkeys:\n",
    "            if not res['reconsettings'][0][key]==settings[key]:\n",
    "                raise ValueError('different reconsettings: '+ key)\n",
    "        if not res['simtype'].take(0)==settings['simtype']:\n",
    "            raise ValueError('different reconsettings: simtype')\n",
    "        settings['Nimg']+=res['simsettings'].take(0)['Nimg']\n",
    "\n",
    "    print('for parameters %s %i, there are %i files with %i images total.'%(s,Np,len(curfiles),settings['Nimg']))\n",
    "    base=re.match('(.*)(-[0-9]+.npz)',f).group(1)\n",
    "    allfile='%s%s-%i-allout.npz'%(base,s,Np)\n",
    "    print('merging to %s'%allfile)\n",
    "    np.savez_compressed(allfile,\n",
    "                    corr=corr,\n",
    "                    photonsum=photonsum,\n",
    "                    settings=settings\n",
    "                   )\n",
    "    finalfile='%s%s-%i-final.npz'%(base,s,Np)\n",
    "    cmd='%s/pythonwrapper.sh %s/recongrid_normalize.py %s %s'%(basepath,basepath,allfile,finalfile)\n",
    "    proc=subprocess.call('/usr/local/bin/bsub -q psanaq -n 8 -o log/reconfinal_%%J.out %s'%cmd,shell=True)          \n",
    "    print(cmd)\n",
    "    print('submitted job to create %s\\n\\n'%finalfile)"
   ]
  },
  {
   "cell_type": "code",
   "execution_count": null,
   "metadata": {},
   "outputs": [],
   "source": [
    "%%bash\n",
    "echo \"running jobs:\"\n",
    "/usr/local/bin/bjobs -w|grep -o \"recongrid_normalize.*npz\""
   ]
  }
 ],
 "metadata": {
  "kernelspec": {
   "display_name": "Python 2",
   "language": "python",
   "name": "python2"
  },
  "language_info": {
   "codemirror_mode": {
    "name": "ipython",
    "version": 2
   },
   "file_extension": ".py",
   "mimetype": "text/x-python",
   "name": "python",
   "nbconvert_exporter": "python",
   "pygments_lexer": "ipython2",
   "version": "2.7.15"
  }
 },
 "nbformat": 4,
 "nbformat_minor": 2
}
