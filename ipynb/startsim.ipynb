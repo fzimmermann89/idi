{
 "cells": [
  {
   "cell_type": "markdown",
   "metadata": {},
   "source": [
    "**setup**"
   ]
  },
  {
   "cell_type": "code",
   "execution_count": 43,
   "metadata": {},
   "outputs": [],
   "source": [
    "#get gpu hosts\n",
    "hosts = [line.strip() for line in open('psanagpu.txt')]\n",
    "#hosts=hosts[:2]+hosts[3:7]+hosts[8:]\n",
    "hosts=['psanagpu102', 'psanagpu105', 'psanagpu106', 'psanagpu110', 'psanagpu112', 'psanagpu114', 'psanagpu115']"
   ]
  },
  {
   "cell_type": "code",
   "execution_count": 44,
   "metadata": {},
   "outputs": [],
   "source": [
    "basepath=\"/reg/neh/home5/zimmf/idi\""
   ]
  },
  {
   "cell_type": "markdown",
   "metadata": {},
   "source": [
    "**create commands**"
   ]
  },
  {
   "cell_type": "code",
   "execution_count": 45,
   "metadata": {},
   "outputs": [],
   "source": [
    "from collections import deque\n",
    "commands=deque()"
   ]
  },
  {
   "cell_type": "code",
   "execution_count": 46,
   "metadata": {},
   "outputs": [],
   "source": [
    "# Usage: sim.py [options] sphere/gridsc/gridfcc/gridblocks\n",
    "\n",
    "# Options:\n",
    "#   -h, --help            show this help message and exit\n",
    "#   -d NDET, --Ndet=NDET  Number of pixels on detector (default: 512)\n",
    "#   -r R                  radius in nm (default: 50)\n",
    "#   -a A                  lattice constant in A (default: 5)\n",
    "#   -n NATOMS, --Natoms=NATOMS\n",
    "#                         Number of atoms (default: 1e5)\n",
    "#   -p PIXELSIZE, --pixelsize=PIXELSIZE\n",
    "#                         Size of pixels on detector in um (default: 75)\n",
    "#   -z DETZ, --detz=DETZ  z distance of detector in cm(default: 10)\n",
    "#   -i NIMG, --Nimg=NIMG  Number of images (default: 100)\n",
    "#   -e E, -E E            Energy in eV (default: 1500)\n",
    "#   -c, --coherent        no random phases\n",
    "#   -o OUTFILE, --output=OUTFILE\n",
    "#                         output file (default: out.npz)\n",
    "#   --Nunitcells=NUNITCELLS\n",
    "#                         grid: nx,ny,nz Number of unitcells in x y and z\n",
    "#                         direction, overrides Natoms (default: use Natoms)\n",
    "#   --anglex=AX           grid: Rotation angle in degree (default: 0)\n",
    "#   --angley=AY           grid: Rotation angle in degree (default: 0)\n",
    "#   --anglez=AZ           grid: Rotation angle in degree (default: 0)\n",
    "#   -f, --fixedpositions  sphere: no randomly changing positions\n",
    "#   --nocuda              dont use cuda"
   ]
  },
  {
   "cell_type": "code",
   "execution_count": 47,
   "metadata": {},
   "outputs": [],
   "source": [
    "#yes, this is the right place to change the settings\n",
    "#ugly but easy for fast changes ;)\n",
    "\n",
    "#in this example we'll use 10 batches of 100 images each.\n",
    "#a lattice constant of 5A, 1e3 Atoms at fixed positions, a detector distance of 4cm, 150um pixelsize, 512x512 pixel,\n",
    "#the fluorescence energy is 9kev and we're doing a sc grid\n",
    "\n",
    "#you should change the path as well but keep the format filename-(2digit number).npz!\n",
    "\n",
    "#for i in range(27): #number of batches\n",
    "#    arguments='-i 100 -a 3.6 -n 1e3 -f -z 4 -p 150 -d 512 -E 9000  -o /reg/d/psdm/amo/amolr9316/scratch/zimmf/test/test-%02d.npz gridsc'%i\n",
    "#    commands.append(\"%s/pythonwrapper.sh %s/sim.py %s\" % (basepath,basepath,arguments) )\n"
   ]
  },
  {
   "cell_type": "code",
   "execution_count": 48,
   "metadata": {},
   "outputs": [],
   "source": [
    "for i in range(28): #number of batches\n",
    "    arguments='--anglex 5 -i 50 -a 5.6 --Nunitcells 100,100,100 -f -z 4 -p 25 -d 1024 -E 9250 -o /reg/d/psdm/amo/amolr9316/scratch/zimmf/sacla/gaas_rotx10-%02d.npz gridfcc'%i\n",
    "    commands.append(\"%s/pythonwrapper.sh local3 %s/idi_sim.py %s\" % (basepath,basepath,arguments) )"
   ]
  },
  {
   "cell_type": "code",
   "execution_count": 49,
   "metadata": {},
   "outputs": [
    {
     "data": {
      "text/plain": [
       "deque(['/reg/neh/home5/zimmf/idi/pythonwrapper.sh local3 /reg/neh/home5/zimmf/idi/idi_sim.py --anglex 5 -i 50 -a 5.6 --Nunitcells 100,100,100 -f -z 4 -p 25 -d 1024 -E 9250 -o /reg/d/psdm/amo/amolr9316/scratch/zimmf/sacla/gaas_rotx10-00.npz gridfcc',\n",
       "       '/reg/neh/home5/zimmf/idi/pythonwrapper.sh local3 /reg/neh/home5/zimmf/idi/idi_sim.py --anglex 5 -i 50 -a 5.6 --Nunitcells 100,100,100 -f -z 4 -p 25 -d 1024 -E 9250 -o /reg/d/psdm/amo/amolr9316/scratch/zimmf/sacla/gaas_rotx10-01.npz gridfcc',\n",
       "       '/reg/neh/home5/zimmf/idi/pythonwrapper.sh local3 /reg/neh/home5/zimmf/idi/idi_sim.py --anglex 5 -i 50 -a 5.6 --Nunitcells 100,100,100 -f -z 4 -p 25 -d 1024 -E 9250 -o /reg/d/psdm/amo/amolr9316/scratch/zimmf/sacla/gaas_rotx10-02.npz gridfcc',\n",
       "       '/reg/neh/home5/zimmf/idi/pythonwrapper.sh local3 /reg/neh/home5/zimmf/idi/idi_sim.py --anglex 5 -i 50 -a 5.6 --Nunitcells 100,100,100 -f -z 4 -p 25 -d 1024 -E 9250 -o /reg/d/psdm/amo/amolr9316/scratch/zimmf/sacla/gaas_rotx10-03.npz gridfcc',\n",
       "       '/reg/neh/home5/zimmf/idi/pythonwrapper.sh local3 /reg/neh/home5/zimmf/idi/idi_sim.py --anglex 5 -i 50 -a 5.6 --Nunitcells 100,100,100 -f -z 4 -p 25 -d 1024 -E 9250 -o /reg/d/psdm/amo/amolr9316/scratch/zimmf/sacla/gaas_rotx10-04.npz gridfcc',\n",
       "       '/reg/neh/home5/zimmf/idi/pythonwrapper.sh local3 /reg/neh/home5/zimmf/idi/idi_sim.py --anglex 5 -i 50 -a 5.6 --Nunitcells 100,100,100 -f -z 4 -p 25 -d 1024 -E 9250 -o /reg/d/psdm/amo/amolr9316/scratch/zimmf/sacla/gaas_rotx10-05.npz gridfcc',\n",
       "       '/reg/neh/home5/zimmf/idi/pythonwrapper.sh local3 /reg/neh/home5/zimmf/idi/idi_sim.py --anglex 5 -i 50 -a 5.6 --Nunitcells 100,100,100 -f -z 4 -p 25 -d 1024 -E 9250 -o /reg/d/psdm/amo/amolr9316/scratch/zimmf/sacla/gaas_rotx10-06.npz gridfcc',\n",
       "       '/reg/neh/home5/zimmf/idi/pythonwrapper.sh local3 /reg/neh/home5/zimmf/idi/idi_sim.py --anglex 5 -i 50 -a 5.6 --Nunitcells 100,100,100 -f -z 4 -p 25 -d 1024 -E 9250 -o /reg/d/psdm/amo/amolr9316/scratch/zimmf/sacla/gaas_rotx10-07.npz gridfcc',\n",
       "       '/reg/neh/home5/zimmf/idi/pythonwrapper.sh local3 /reg/neh/home5/zimmf/idi/idi_sim.py --anglex 5 -i 50 -a 5.6 --Nunitcells 100,100,100 -f -z 4 -p 25 -d 1024 -E 9250 -o /reg/d/psdm/amo/amolr9316/scratch/zimmf/sacla/gaas_rotx10-08.npz gridfcc',\n",
       "       '/reg/neh/home5/zimmf/idi/pythonwrapper.sh local3 /reg/neh/home5/zimmf/idi/idi_sim.py --anglex 5 -i 50 -a 5.6 --Nunitcells 100,100,100 -f -z 4 -p 25 -d 1024 -E 9250 -o /reg/d/psdm/amo/amolr9316/scratch/zimmf/sacla/gaas_rotx10-09.npz gridfcc',\n",
       "       '/reg/neh/home5/zimmf/idi/pythonwrapper.sh local3 /reg/neh/home5/zimmf/idi/idi_sim.py --anglex 5 -i 50 -a 5.6 --Nunitcells 100,100,100 -f -z 4 -p 25 -d 1024 -E 9250 -o /reg/d/psdm/amo/amolr9316/scratch/zimmf/sacla/gaas_rotx10-10.npz gridfcc',\n",
       "       '/reg/neh/home5/zimmf/idi/pythonwrapper.sh local3 /reg/neh/home5/zimmf/idi/idi_sim.py --anglex 5 -i 50 -a 5.6 --Nunitcells 100,100,100 -f -z 4 -p 25 -d 1024 -E 9250 -o /reg/d/psdm/amo/amolr9316/scratch/zimmf/sacla/gaas_rotx10-11.npz gridfcc',\n",
       "       '/reg/neh/home5/zimmf/idi/pythonwrapper.sh local3 /reg/neh/home5/zimmf/idi/idi_sim.py --anglex 5 -i 50 -a 5.6 --Nunitcells 100,100,100 -f -z 4 -p 25 -d 1024 -E 9250 -o /reg/d/psdm/amo/amolr9316/scratch/zimmf/sacla/gaas_rotx10-12.npz gridfcc',\n",
       "       '/reg/neh/home5/zimmf/idi/pythonwrapper.sh local3 /reg/neh/home5/zimmf/idi/idi_sim.py --anglex 5 -i 50 -a 5.6 --Nunitcells 100,100,100 -f -z 4 -p 25 -d 1024 -E 9250 -o /reg/d/psdm/amo/amolr9316/scratch/zimmf/sacla/gaas_rotx10-13.npz gridfcc',\n",
       "       '/reg/neh/home5/zimmf/idi/pythonwrapper.sh local3 /reg/neh/home5/zimmf/idi/idi_sim.py --anglex 5 -i 50 -a 5.6 --Nunitcells 100,100,100 -f -z 4 -p 25 -d 1024 -E 9250 -o /reg/d/psdm/amo/amolr9316/scratch/zimmf/sacla/gaas_rotx10-14.npz gridfcc',\n",
       "       '/reg/neh/home5/zimmf/idi/pythonwrapper.sh local3 /reg/neh/home5/zimmf/idi/idi_sim.py --anglex 5 -i 50 -a 5.6 --Nunitcells 100,100,100 -f -z 4 -p 25 -d 1024 -E 9250 -o /reg/d/psdm/amo/amolr9316/scratch/zimmf/sacla/gaas_rotx10-15.npz gridfcc',\n",
       "       '/reg/neh/home5/zimmf/idi/pythonwrapper.sh local3 /reg/neh/home5/zimmf/idi/idi_sim.py --anglex 5 -i 50 -a 5.6 --Nunitcells 100,100,100 -f -z 4 -p 25 -d 1024 -E 9250 -o /reg/d/psdm/amo/amolr9316/scratch/zimmf/sacla/gaas_rotx10-16.npz gridfcc',\n",
       "       '/reg/neh/home5/zimmf/idi/pythonwrapper.sh local3 /reg/neh/home5/zimmf/idi/idi_sim.py --anglex 5 -i 50 -a 5.6 --Nunitcells 100,100,100 -f -z 4 -p 25 -d 1024 -E 9250 -o /reg/d/psdm/amo/amolr9316/scratch/zimmf/sacla/gaas_rotx10-17.npz gridfcc',\n",
       "       '/reg/neh/home5/zimmf/idi/pythonwrapper.sh local3 /reg/neh/home5/zimmf/idi/idi_sim.py --anglex 5 -i 50 -a 5.6 --Nunitcells 100,100,100 -f -z 4 -p 25 -d 1024 -E 9250 -o /reg/d/psdm/amo/amolr9316/scratch/zimmf/sacla/gaas_rotx10-18.npz gridfcc',\n",
       "       '/reg/neh/home5/zimmf/idi/pythonwrapper.sh local3 /reg/neh/home5/zimmf/idi/idi_sim.py --anglex 5 -i 50 -a 5.6 --Nunitcells 100,100,100 -f -z 4 -p 25 -d 1024 -E 9250 -o /reg/d/psdm/amo/amolr9316/scratch/zimmf/sacla/gaas_rotx10-19.npz gridfcc',\n",
       "       '/reg/neh/home5/zimmf/idi/pythonwrapper.sh local3 /reg/neh/home5/zimmf/idi/idi_sim.py --anglex 5 -i 50 -a 5.6 --Nunitcells 100,100,100 -f -z 4 -p 25 -d 1024 -E 9250 -o /reg/d/psdm/amo/amolr9316/scratch/zimmf/sacla/gaas_rotx10-20.npz gridfcc',\n",
       "       '/reg/neh/home5/zimmf/idi/pythonwrapper.sh local3 /reg/neh/home5/zimmf/idi/idi_sim.py --anglex 5 -i 50 -a 5.6 --Nunitcells 100,100,100 -f -z 4 -p 25 -d 1024 -E 9250 -o /reg/d/psdm/amo/amolr9316/scratch/zimmf/sacla/gaas_rotx10-21.npz gridfcc',\n",
       "       '/reg/neh/home5/zimmf/idi/pythonwrapper.sh local3 /reg/neh/home5/zimmf/idi/idi_sim.py --anglex 5 -i 50 -a 5.6 --Nunitcells 100,100,100 -f -z 4 -p 25 -d 1024 -E 9250 -o /reg/d/psdm/amo/amolr9316/scratch/zimmf/sacla/gaas_rotx10-22.npz gridfcc',\n",
       "       '/reg/neh/home5/zimmf/idi/pythonwrapper.sh local3 /reg/neh/home5/zimmf/idi/idi_sim.py --anglex 5 -i 50 -a 5.6 --Nunitcells 100,100,100 -f -z 4 -p 25 -d 1024 -E 9250 -o /reg/d/psdm/amo/amolr9316/scratch/zimmf/sacla/gaas_rotx10-23.npz gridfcc',\n",
       "       '/reg/neh/home5/zimmf/idi/pythonwrapper.sh local3 /reg/neh/home5/zimmf/idi/idi_sim.py --anglex 5 -i 50 -a 5.6 --Nunitcells 100,100,100 -f -z 4 -p 25 -d 1024 -E 9250 -o /reg/d/psdm/amo/amolr9316/scratch/zimmf/sacla/gaas_rotx10-24.npz gridfcc',\n",
       "       '/reg/neh/home5/zimmf/idi/pythonwrapper.sh local3 /reg/neh/home5/zimmf/idi/idi_sim.py --anglex 5 -i 50 -a 5.6 --Nunitcells 100,100,100 -f -z 4 -p 25 -d 1024 -E 9250 -o /reg/d/psdm/amo/amolr9316/scratch/zimmf/sacla/gaas_rotx10-25.npz gridfcc',\n",
       "       '/reg/neh/home5/zimmf/idi/pythonwrapper.sh local3 /reg/neh/home5/zimmf/idi/idi_sim.py --anglex 5 -i 50 -a 5.6 --Nunitcells 100,100,100 -f -z 4 -p 25 -d 1024 -E 9250 -o /reg/d/psdm/amo/amolr9316/scratch/zimmf/sacla/gaas_rotx10-26.npz gridfcc',\n",
       "       '/reg/neh/home5/zimmf/idi/pythonwrapper.sh local3 /reg/neh/home5/zimmf/idi/idi_sim.py --anglex 5 -i 50 -a 5.6 --Nunitcells 100,100,100 -f -z 4 -p 25 -d 1024 -E 9250 -o /reg/d/psdm/amo/amolr9316/scratch/zimmf/sacla/gaas_rotx10-27.npz gridfcc'])"
      ]
     },
     "execution_count": 49,
     "metadata": {},
     "output_type": "execute_result"
    }
   ],
   "source": [
    "commands"
   ]
  },
  {
   "cell_type": "markdown",
   "metadata": {},
   "source": [
    "**run commands**"
   ]
  },
  {
   "cell_type": "code",
   "execution_count": null,
   "metadata": {},
   "outputs": [
    {
     "name": "stdout",
     "output_type": "stream",
     "text": [
      "starting \n",
      "\"/reg/neh/home5/zimmf/idi/pythonwrapper.sh local3 /reg/neh/home5/zimmf/idi/idi_sim.py --anglex 5 -i 50 -a 5.6 --Nunitcells 100,100,100 -f -z 4 -p 25 -d 1024 -E 9250 -o /reg/d/psdm/amo/amolr9316/scratch/zimmf/sacla/gaas_rotx10-00.npz gridfcc\"\n",
      " on psanagpu102\n",
      "starting \n",
      "\"/reg/neh/home5/zimmf/idi/pythonwrapper.sh local3 /reg/neh/home5/zimmf/idi/idi_sim.py --anglex 5 -i 50 -a 5.6 --Nunitcells 100,100,100 -f -z 4 -p 25 -d 1024 -E 9250 -o /reg/d/psdm/amo/amolr9316/scratch/zimmf/sacla/gaas_rotx10-01.npz gridfcc\"\n",
      " on psanagpu105\n",
      "starting \n",
      "\"/reg/neh/home5/zimmf/idi/pythonwrapper.sh local3 /reg/neh/home5/zimmf/idi/idi_sim.py --anglex 5 -i 50 -a 5.6 --Nunitcells 100,100,100 -f -z 4 -p 25 -d 1024 -E 9250 -o /reg/d/psdm/amo/amolr9316/scratch/zimmf/sacla/gaas_rotx10-02.npz gridfcc\"\n",
      " on psanagpu106\n",
      "starting \n",
      "\"/reg/neh/home5/zimmf/idi/pythonwrapper.sh local3 /reg/neh/home5/zimmf/idi/idi_sim.py --anglex 5 -i 50 -a 5.6 --Nunitcells 100,100,100 -f -z 4 -p 25 -d 1024 -E 9250 -o /reg/d/psdm/amo/amolr9316/scratch/zimmf/sacla/gaas_rotx10-03.npz gridfcc\"\n",
      " on psanagpu110\n",
      "starting \n",
      "\"/reg/neh/home5/zimmf/idi/pythonwrapper.sh local3 /reg/neh/home5/zimmf/idi/idi_sim.py --anglex 5 -i 50 -a 5.6 --Nunitcells 100,100,100 -f -z 4 -p 25 -d 1024 -E 9250 -o /reg/d/psdm/amo/amolr9316/scratch/zimmf/sacla/gaas_rotx10-04.npz gridfcc\"\n",
      " on psanagpu112\n",
      "starting \n",
      "\"/reg/neh/home5/zimmf/idi/pythonwrapper.sh local3 /reg/neh/home5/zimmf/idi/idi_sim.py --anglex 5 -i 50 -a 5.6 --Nunitcells 100,100,100 -f -z 4 -p 25 -d 1024 -E 9250 -o /reg/d/psdm/amo/amolr9316/scratch/zimmf/sacla/gaas_rotx10-05.npz gridfcc\"\n",
      " on psanagpu114\n",
      "starting \n",
      "\"/reg/neh/home5/zimmf/idi/pythonwrapper.sh local3 /reg/neh/home5/zimmf/idi/idi_sim.py --anglex 5 -i 50 -a 5.6 --Nunitcells 100,100,100 -f -z 4 -p 25 -d 1024 -E 9250 -o /reg/d/psdm/amo/amolr9316/scratch/zimmf/sacla/gaas_rotx10-06.npz gridfcc\"\n",
      " on psanagpu115\n",
      "psanagpu102:[b'started on psanagpu102..\\n', b'done\\n']\n",
      "starting \n",
      "\"/reg/neh/home5/zimmf/idi/pythonwrapper.sh local3 /reg/neh/home5/zimmf/idi/idi_sim.py --anglex 5 -i 50 -a 5.6 --Nunitcells 100,100,100 -f -z 4 -p 25 -d 1024 -E 9250 -o /reg/d/psdm/amo/amolr9316/scratch/zimmf/sacla/gaas_rotx10-07.npz gridfcc\"\n",
      " on psanagpu102\n",
      "psanagpu102:[b'started on psanagpu102..\\n', b'done\\n']\n",
      "starting \n",
      "\"/reg/neh/home5/zimmf/idi/pythonwrapper.sh local3 /reg/neh/home5/zimmf/idi/idi_sim.py --anglex 5 -i 50 -a 5.6 --Nunitcells 100,100,100 -f -z 4 -p 25 -d 1024 -E 9250 -o /reg/d/psdm/amo/amolr9316/scratch/zimmf/sacla/gaas_rotx10-08.npz gridfcc\"\n",
      " on psanagpu102\n"
     ]
    }
   ],
   "source": [
    "#simple queueing system for the gpuhosts\n",
    "\n",
    "import subprocess\n",
    "import sys\n",
    "from time import sleep\n",
    "sshs=len(hosts)*[None]\n",
    "while True:\n",
    "    for n,(ssh,host) in enumerate(zip(sshs,hosts)):\n",
    "        if ssh is None or ssh.poll()==0:\n",
    "            if ssh is not None:\n",
    "                print ('%s:%s'%(host, ssh.stdout.readlines()))\n",
    "            if len(commands):\n",
    "                command=commands.popleft()\n",
    "                print('starting \\n\"%s\"\\n on %s'%(command,host))\n",
    "                ssh=subprocess.Popen([\"ssh\", \"%s\" % host, \"%s\" % command],\n",
    "                                   shell=False,\n",
    "                                   stdout=subprocess.PIPE,\n",
    "                                   stderr=subprocess.PIPE)        \n",
    "            else:\n",
    "                ssh = None\n",
    "        sshs[n]=ssh\n",
    "    sleep(1)\n",
    "    \n",
    "    if all(s is None for s in sshs): break"
   ]
  },
  {
   "cell_type": "code",
   "execution_count": null,
   "metadata": {},
   "outputs": [],
   "source": [
    "#getting error messages for debuging\n",
    "for ssh in sshs:\n",
    "    if ssh is not None:\n",
    "        result = ssh.stdout.readlines()\n",
    "        if result == []:\n",
    "            error = ssh.stderr.readlines()\n",
    "            print(\"ERROR: %s\" % error)\n",
    "        else:\n",
    "            print result\n",
    "    else:\n",
    "        print('done')"
   ]
  },
  {
   "cell_type": "markdown",
   "metadata": {},
   "source": [
    " "
   ]
  },
  {
   "cell_type": "markdown",
   "metadata": {},
   "source": [
    "\n",
    "\n",
    "\n",
    "**handy one liner to check on the simulation** :\n",
    "\n",
    "`while read i; do; echo $i;ssh -n $i nvidia-smi|grep python; done <psanagpu.txt`"
   ]
  },
  {
   "cell_type": "code",
   "execution_count": null,
   "metadata": {},
   "outputs": [],
   "source": []
  }
 ],
 "metadata": {
  "kernelspec": {
   "display_name": "Python 3 (local3)",
   "language": "python",
   "name": "local3"
  },
  "language_info": {
   "codemirror_mode": {
    "name": "ipython",
    "version": 3
   },
   "file_extension": ".py",
   "mimetype": "text/x-python",
   "name": "python",
   "nbconvert_exporter": "python",
   "pygments_lexer": "ipython3",
   "version": "3.6.7"
  }
 },
 "nbformat": 4,
 "nbformat_minor": 2
}
