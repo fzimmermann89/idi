{
 "cells": [
  {
   "cell_type": "markdown",
   "metadata": {},
   "source": [
    "**setup**"
   ]
  },
  {
   "cell_type": "code",
   "execution_count": null,
   "metadata": {},
   "outputs": [],
   "source": [
    "#adjust the path\n",
    "basepath='/reg/neh/home5/zimmf/simulation' #absolute path to files"
   ]
  },
  {
   "cell_type": "code",
   "execution_count": null,
   "metadata": {},
   "outputs": [],
   "source": [
    "#get gpu hosts\n",
    "hosts = [line.strip() for line in open('psanagpu.txt')]\n",
    "#hosts=hosts[:2]+hosts[3:7]+hosts[8:]\n",
    "print hosts"
   ]
  },
  {
   "cell_type": "code",
   "execution_count": null,
   "metadata": {},
   "outputs": [],
   "source": []
  },
  {
   "cell_type": "markdown",
   "metadata": {},
   "source": [
    "**create commands**"
   ]
  },
  {
   "cell_type": "code",
   "execution_count": null,
   "metadata": {},
   "outputs": [],
   "source": [
    "from collections import deque\n",
    "commands=deque()"
   ]
  },
  {
   "cell_type": "code",
   "execution_count": null,
   "metadata": {},
   "outputs": [],
   "source": [
    "# Usage: sim.py [options] sphere/gridsc/gridfcc/gridblocks\n",
    "\n",
    "# Options:\n",
    "#   -h, --help            show this help message and exit\n",
    "#   -d NDET, --Ndet=NDET  Number of pixels on detector (default: 512)\n",
    "#   -r R                  radius in nm (default: 50)\n",
    "#   -a A                  lattice constant in A (default: 5)\n",
    "#   -n NATOMS, --Natoms=NATOMS\n",
    "#                         Number of atoms (default: 1e5)\n",
    "#   -p PIXELSIZE, --pixelsize=PIXELSIZE\n",
    "#                         Size of pixels on detector in um (default: 75)\n",
    "#   -z DETZ, --detz=DETZ  z distance of detector in cm(default: 10)\n",
    "#   -i NIMG, --Nimg=NIMG  Number of images (default: 100)\n",
    "#   -e E, -E E            Energy in eV (default: 1500)\n",
    "#   -c, --coherent        no random phases\n",
    "#   -f, --fixedpositions  no randomly changing positions inside\n",
    "#                         sphere/orientation of grid\n",
    "#   -o OUTFILE, --output=OUTFILE\n",
    "#                         output file (default: out.npz)\n",
    "#   --nx=NX               gridline: Number of atoms in x direction (default:\n",
    "#                         Natoms/300)\n",
    "#   --ny=NY               gridline: Number of atoms in y direction (default: 30)\n",
    "#   --nz=NZ               gridline: Number of atoms in z direction (default: 10)"
   ]
  },
  {
   "cell_type": "code",
   "execution_count": null,
   "metadata": {},
   "outputs": [],
   "source": [
    "#yes, this is the right place to change the settings\n",
    "#ugly but easy for fast changes ;)\n",
    "\n",
    "#in this example we'll use 10 batches of 100 images each.\n",
    "#a lattice constant of 5A, 1e3 Atoms at fixed positions, a detector distance of 4cm, 150um pixelsize, 512x512 pixel,\n",
    "#the fluorescence energy is 9kev and we're doing a sc grid\n",
    "\n",
    "#you should change the path as well but keep the format filename-(2digit number).npz!\n",
    "\n",
    "#for i in range(27): #number of batches\n",
    "#    arguments='-i 100 -a 3.6 -n 1e3 -f -z 4 -p 150 -d 512 -E 9000  -o /reg/d/psdm/amo/amolr9316/scratch/zimmf/test/test-%02d.npz gridsc'%i\n",
    "#    commands.append(\"%s/pythonwrapper.sh %s/sim.py %s\" % (basepath,basepath,arguments) )\n"
   ]
  },
  {
   "cell_type": "code",
   "execution_count": null,
   "metadata": {},
   "outputs": [],
   "source": [
    "for i in range(14): #number of batches\n",
    "    arguments='--anglex 10 -i 200 -a 3.6 -n 1e3 -f -z 4 -p 75 -d 1024 -E 8040 -o /reg/d/psdm/amo/amolr9316/scratch/zimmf/rot2/gridfcc_rotx10-%02d.npz gridfcc'%i\n",
    "    commands.append(\"%s/pythonwrapper.sh %s/sim.py %s\" % (basepath,basepath,arguments) )\n",
    "    \n",
    "for i in range(14): #number of batches\n",
    "    arguments='--angley 10 -i 200 -a 3.6 -n 1e3 -f -z 4 -p 75 -d 1024 -E 8040 -o /reg/d/psdm/amo/amolr9316/scratch/zimmf/rot2/gridfcc_roty10-%02d.npz gridfcc'%i\n",
    "    commands.append(\"%s/pythonwrapper.sh %s/sim.py %s\" % (basepath,basepath,arguments) )\n",
    "    \n",
    "for i in range(14): #number of batches\n",
    "    arguments='--anglez 10 -i 200 -a 3.6 -n 1e3 -f -z 4 -p 75 -d 1024 -E 8040 -o /reg/d/psdm/amo/amolr9316/scratch/zimmf/rot2/gridfcc_rotz10-%02d.npz gridfcc'%i\n",
    "    commands.append(\"%s/pythonwrapper.sh %s/sim.py %s\" % (basepath,basepath,arguments) )\n",
    "\n",
    "    \n",
    "for i in range(14): #number of batches\n",
    "    arguments='--anglex 5 -i 200 -a 3.6 -n 1e3 -f -z 4 -p 75 -d 1024 -E 8040 -o /reg/d/psdm/amo/amolr9316/scratch/zimmf/rot2/gridfcc_rotx5-%02d.npz gridfcc'%i\n",
    "    commands.append(\"%s/pythonwrapper.sh %s/sim.py %s\" % (basepath,basepath,arguments) )\n",
    "    \n",
    "for i in range(14): #number of batches\n",
    "    arguments='--angley 5 -i 200 -a 3.6 -n 1e3 -f -z 4 -p 75 -d 1024 -E 8040 -o /reg/d/psdm/amo/amolr9316/scratch/zimmf/rot2/gridfcc_roty5-%02d.npz gridfcc'%i\n",
    "    commands.append(\"%s/pythonwrapper.sh %s/sim.py %s\" % (basepath,basepath,arguments) )\n",
    "    \n",
    "for i in range(14): #number of batches\n",
    "    arguments='--anglez 5 -i 200 -a 3.6 -n 1e3 -f -z 4 -p 75 -d 1024 -E 8040 -o /reg/d/psdm/amo/amolr9316/scratch/zimmf/rot2/gridfcc_rotz5-%02d.npz gridfcc'%i\n",
    "    commands.append(\"%s/pythonwrapper.sh %s/sim.py %s\" % (basepath,basepath,arguments) )\n",
    " \n",
    "\n",
    "for i in range(14): #number of batches\n",
    "    arguments='--anglex 1 -i 200 -a 3.6 -n 1e3 -f -z 4 -p 75 -d 1024 -E 8040 -o /reg/d/psdm/amo/amolr9316/scratch/zimmf/rot2/gridfcc_rotx1-%02d.npz gridfcc'%i\n",
    "    commands.append(\"%s/pythonwrapper.sh %s/sim.py %s\" % (basepath,basepath,arguments) )\n",
    "    \n",
    "for i in range(14): #number of batches\n",
    "    arguments='--angley 1 -i 200 -a 3.6 -n 1e3 -f -z 4 -p 75 -d 1024 -E 8040 -o /reg/d/psdm/amo/amolr9316/scratch/zimmf/rot2/gridfcc_roty1-%02d.npz gridfcc'%i\n",
    "    commands.append(\"%s/pythonwrapper.sh %s/sim.py %s\" % (basepath,basepath,arguments) )\n",
    "    \n",
    "for i in range(14): #number of batches\n",
    "    arguments='--anglez 1 -i 200 -a 3.6 -n 1e3 -f -z 4 -p 75 -d 1024 -E 8040 -o /reg/d/psdm/amo/amolr9316/scratch/zimmf/rot2/gridfcc_rotz1-%02d.npz gridfcc'%i\n",
    "    commands.append(\"%s/pythonwrapper.sh %s/sim.py %s\" % (basepath,basepath,arguments) )\n",
    "\n",
    "    \n",
    "# for i in range(14): #number of batches\n",
    "#     arguments='--anglex 1 --angley 1 --anglez 1 -i 200 -a 3.6 -n 1e3 -f -z 4 -p 75 -d 1024 -E 8040 -o /reg/d/psdm/amo/amolr9316/scratch/zimmf/rot2/gridfcc_rotxyz1-%02d.npz gridfcc'%i\n",
    "#     commands.append(\"%s/pythonwrapper.sh %s/sim.py %s\" % (basepath,basepath,arguments) )\n",
    "    \n",
    "# for i in range(14): #number of batches\n",
    "#     arguments='--anglex 5 --angley 5 --anglez 5 -i 200 -a 3.6 -n 1e3 -f -z 4 -p 75 -d 1024 -E 8040 -o /reg/d/psdm/amo/amolr9316/scratch/zimmf/rot2/gridfcc_rotxyz5-%02d.npz gridfcc'%i\n",
    "#     commands.append(\"%s/pythonwrapper.sh %s/sim.py %s\" % (basepath,basepath,arguments) )\n",
    "\n",
    "# for i in range(14): #number of batches\n",
    "#     arguments='--anglex 10 --angley 10 --anglez 10 -i 200 -a 3.6 -n 1e3 -f -z 4 -p 75 -d 1024 -E 8040 -o /reg/d/psdm/amo/amolr9316/scratch/zimmf/rot2/gridfcc_rotxyz10-%02d.npz gridfcc'%i\n",
    "#     commands.append(\"%s/pythonwrapper.sh %s/sim.py %s\" % (basepath,basepath,arguments) )"
   ]
  },
  {
   "cell_type": "code",
   "execution_count": null,
   "metadata": {},
   "outputs": [],
   "source": [
    "commands"
   ]
  },
  {
   "cell_type": "markdown",
   "metadata": {},
   "source": [
    "**run commands**"
   ]
  },
  {
   "cell_type": "code",
   "execution_count": null,
   "metadata": {},
   "outputs": [],
   "source": [
    "#simple queueing system for the gpuhosts\n",
    "\n",
    "import subprocess\n",
    "import sys\n",
    "from time import sleep\n",
    "sshs=len(hosts)*[None]\n",
    "while True:\n",
    "    for n,(ssh,host) in enumerate(zip(sshs,hosts)):\n",
    "        if ssh is None or ssh.poll()==0:\n",
    "            if ssh is not None:\n",
    "                print '%s:%s'%(host, ssh.stdout.readlines())\n",
    "            if len(commands):\n",
    "                command=commands.popleft()\n",
    "                print 'starting \\n\"%s\"\\n on %s'%(command,host)\n",
    "                ssh=subprocess.Popen([\"ssh\", \"%s\" % host, \"%s\" % command],\n",
    "                                   shell=False,\n",
    "                                   stdout=subprocess.PIPE,\n",
    "                                   stderr=subprocess.PIPE)        \n",
    "            else:\n",
    "                ssh = None\n",
    "        sshs[n]=ssh\n",
    "    sleep(1)\n",
    "    \n",
    "    if all(s is None for s in sshs): break"
   ]
  },
  {
   "cell_type": "code",
   "execution_count": null,
   "metadata": {},
   "outputs": [],
   "source": [
    "#getting error messages for debuging\n",
    "for ssh in sshs:\n",
    "    if ssh is not None:\n",
    "        result = ssh.stdout.readlines()\n",
    "        if result == []:\n",
    "            error = ssh.stderr.readlines()\n",
    "            print >>sys.stderr, \"ERROR: %s\" % error\n",
    "        else:\n",
    "            print result\n",
    "    else:\n",
    "        print('done')"
   ]
  },
  {
   "cell_type": "markdown",
   "metadata": {},
   "source": [
    " "
   ]
  },
  {
   "cell_type": "markdown",
   "metadata": {},
   "source": [
    "\n",
    "\n",
    "\n",
    "**handy one liner to check on the simulation** :\n",
    "\n",
    "`while read i; do; echo $i;ssh -n $i nvidia-smi|grep python; done <psanagpu.txt`"
   ]
  },
  {
   "cell_type": "code",
   "execution_count": null,
   "metadata": {},
   "outputs": [],
   "source": []
  }
 ],
 "metadata": {
  "kernelspec": {
   "display_name": "Python 2",
   "language": "python",
   "name": "python2"
  },
  "language_info": {
   "codemirror_mode": {
    "name": "ipython",
    "version": 2
   },
   "file_extension": ".py",
   "mimetype": "text/x-python",
   "name": "python",
   "nbconvert_exporter": "python",
   "pygments_lexer": "ipython2",
   "version": "2.7.15"
  }
 },
 "nbformat": 4,
 "nbformat_minor": 2
}
