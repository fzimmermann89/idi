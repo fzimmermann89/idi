{
 "cells": [
  {
   "cell_type": "code",
   "execution_count": 1,
   "metadata": {},
   "outputs": [
    {
     "name": "stdout",
     "output_type": "stream",
     "text": [
      "psanagpu106\n"
     ]
    }
   ],
   "source": [
    "from __future__ import division, print_function\n",
    "from six import print_ as print\n",
    "import idi.simulation as sim\n",
    "import numpy as np\n",
    "from numpy import pi\n",
    "!hostname"
   ]
  },
  {
   "cell_type": "code",
   "execution_count": 2,
   "metadata": {},
   "outputs": [],
   "source": [
    "import os\n",
    "os.environ['PATH']+=':/usr/local/cuda/bin/' # cuda must be in path"
   ]
  },
  {
   "cell_type": "markdown",
   "metadata": {},
   "source": [
    "**Settings**"
   ]
  },
  {
   "cell_type": "code",
   "execution_count": 3,
   "metadata": {},
   "outputs": [],
   "source": [
    "outfile = '/reg/data/ana15/xpp/xppx37817/scratch/zimmf/lammps.npz'\n",
    "Ndet = 1024\n",
    "detz = 4.1  # in cm\n",
    "pixelsize = 75 # in um\n",
    "Nimg = 200\n",
    "E = 8040  # in ev\n",
    "rndphase = True\n",
    "cuda = True\n",
    "simtype = 'lammps'\n",
    "import glob\n",
    "inputfiles=glob.glob(\"atompos*.npz\")\n",
    "\n",
    "atomname='Cu'"
   ]
  },
  {
   "cell_type": "code",
   "execution_count": 4,
   "metadata": {},
   "outputs": [
    {
     "name": "stdout",
     "output_type": "stream",
     "text": [
      "Could not read atompos_timestep1000000.npz, skipping.\n",
      "Found 44 inputfiles\n"
     ]
    }
   ],
   "source": [
    "#check inputfiles\n",
    "files=[]\n",
    "for f in inputfiles:\n",
    "    try:\n",
    "        t=np.load(f)\n",
    "    except IOError:\n",
    "        print(\"Could not read %s, skipping.\"%f)\n",
    "    else:\n",
    "        files.append(f)\n",
    "inputfiles = files\n",
    "print(\"Found %i inputfiles\"%len(inputfiles))"
   ]
  },
  {
   "cell_type": "markdown",
   "metadata": {},
   "source": [
    "**Simulation**"
   ]
  },
  {
   "cell_type": "code",
   "execution_count": 5,
   "metadata": {},
   "outputs": [
    {
     "name": "stdout",
     "output_type": "stream",
     "text": [
      "preparing\n"
     ]
    }
   ],
   "source": [
    "print(\"preparing\")\n",
    "_detz = detz * 1e4 # in um\n",
    "k = 2 * pi / (1.24 / E)  # in 1/um\n",
    "\n",
    "from idi.simulation.simobj import atoms\n",
    "class lammps(atoms):\n",
    "    import numpy as np\n",
    "    def __init__(self,files,atomname,E):\n",
    "        self.files=files\n",
    "        self.currentfile=0\n",
    "        self.atomname=atomname\n",
    "        f=np.load(files[0])\n",
    "        bounds=f['bounds']\n",
    "        pos=(f[self.atomname]*(bounds[:,1]-bounds[:,0])+bounds[:,0])*1e-3 #in um\n",
    "        atoms.__init__(self, E, pos)\n",
    "\n",
    "    def get(self, rndPhase=True):\n",
    "        f=np.load(files[self.currentfile])\n",
    "        bounds=f['bounds']\n",
    "        self.currentfile=(self.currentfile+1)%len(self.files)       \n",
    "        self._pos=(f[self.atomname]*(bounds[:,1]-bounds[:,0])+bounds[:,0])*1e-3 #in um\n",
    "        return atoms.get(self)\n",
    "\n",
    "simobject = lammps(inputfiles, atomname, E)\n",
    "simobject.rndPhase = rndphase\n"
   ]
  },
  {
   "cell_type": "code",
   "execution_count": null,
   "metadata": {},
   "outputs": [
    {
     "name": "stdout",
     "output_type": "stream",
     "text": [
      "simulating\n",
      "0.. 1.. 2.. 3.. 4.. 5.. 6.. 7.. 8.. 9.. 10.. 11.. 12.. 13.. 14.. 15.. 16.. 17.. 18.. 19.. 20.. 21.. 22.. 23.. 24.. 25.. 26.. 27.. 28.. 29.. 30.. 31.. 32.. 33.. 34.. 35.. 36.. 37.. 38.. 39.. 40.. 41.. 42.. 43.. 44.. 45.. 46.. 47.. 48.. 49.. 50.. 51.. 52.. 53.. 54.. 55.. 56.. 57.. 58.. 59.. 60.. 61.. 62.. 63.. 64.. 65.. 66.. 67.. 68.. 69.. 70.. 71.. 72.. 73.. 74.. 75.. 76.. 77.. 78.. 79.. 80.. 81.. 82.. 83.. 84.. 85.. 86.. 87.. 88.. 89.. 90.. 91.. 92.. 93.. 94.. 95.. 96.. 97.. 98.. 99.. 100.. 101.. 102.. 103.. 104.. 105.. 106.. 107.. 108.. 109.. 110.. 111.. 112.. 113.. 114.. 115.. 116.. 117.. 118.. 119.. 120.. 121.. 122.. 123.. 124.. 125.. 126.. 127.. 128.. 129.. 130.. 131.. 132.. 133.. 134.. 135.. 136.. 137.. 138.. 139.. 140.. 141.. 142.. 143.. 144.. 145.. 146.. 147.. 148.. 149.. 150.. 151.. 152.. 153.. 154.. 155.. 156.. 157.. 158.. 159.. 160.. 161.. 162.. 163.. 164.. 165.. 166.. 167.. 168.. 169.. 170.. 171.. 172.. 173.. 174.. 175.. 176.. 177.. 178.. 179.. 180.. 181.. 182.. 183.. 184.. 185.. 186.. 187.. 188."
     ]
    }
   ],
   "source": [
    "print(\"simulating\")\n",
    "if cuda:\n",
    "    result = sim.cuda.simulate(Nimg, simobject, Ndet, pixelsize, _detz, k)\n",
    "else:\n",
    "    print(\"using cpu\")\n",
    "    result = sim.cpu.simulate(Nimg, simobject, Ndet, pixelsize, _detz, k)\n",
    "result = np.abs(result * result.conjugate())"
   ]
  },
  {
   "cell_type": "code",
   "execution_count": null,
   "metadata": {},
   "outputs": [],
   "source": [
    "print(\"saving\")\n",
    "np.savez_compressed(outfile, result = result, settings = ({\n",
    "    'Natoms': simobject.get().shape[0],\n",
    "    'Ndet': Ndet,\n",
    "    'detz': detz,\n",
    "    'Nimg': Nimg,\n",
    "    'atomname': atomname,\n",
    "    'inputfiles': inputfiles,\n",
    "    'pixelsize': pixelsize,\n",
    "    'E': E,\n",
    "    'rndphase': rndphase,\n",
    "    }, [simtype]))"
   ]
  },
  {
   "cell_type": "code",
   "execution_count": null,
   "metadata": {},
   "outputs": [],
   "source": [
    "print(\"done\")"
   ]
  },
  {
   "cell_type": "markdown",
   "metadata": {},
   "source": [
    "**Show Simulation object**"
   ]
  },
  {
   "cell_type": "code",
   "execution_count": null,
   "metadata": {},
   "outputs": [],
   "source": [
    "pos=simobject.get()"
   ]
  },
  {
   "cell_type": "code",
   "execution_count": null,
   "metadata": {},
   "outputs": [],
   "source": [
    "from mpl_toolkits import mplot3d\n",
    "%matplotlib inline\n",
    "import matplotlib.pyplot as plt\n",
    "fig = plt.figure()\n",
    "ax = plt.axes(projection='3d')\n",
    "ax.scatter(pos[:,0]*1e4,pos[:,1]*1e4,pos[:,2]*1e4)\n"
   ]
  },
  {
   "cell_type": "code",
   "execution_count": null,
   "metadata": {},
   "outputs": [],
   "source": []
  }
 ],
 "metadata": {
  "kernelspec": {
   "display_name": "Python 3 (local3)",
   "language": "python",
   "name": "local3"
  },
  "language_info": {
   "codemirror_mode": {
    "name": "ipython",
    "version": 3
   },
   "file_extension": ".py",
   "mimetype": "text/x-python",
   "name": "python",
   "nbconvert_exporter": "python",
   "pygments_lexer": "ipython3",
   "version": "3.6.7"
  }
 },
 "nbformat": 4,
 "nbformat_minor": 2
}
