{
 "cells": [
  {
   "cell_type": "code",
   "execution_count": 1,
   "metadata": {},
   "outputs": [
    {
     "name": "stdout",
     "output_type": "stream",
     "text": [
      "psanagpu114\n"
     ]
    }
   ],
   "source": [
    "from __future__ import division, print_function\n",
    "from six import print_ as print\n",
    "import idi.simulation as sim\n",
    "import numpy as np\n",
    "from numpy import pi\n",
    "!hostname"
   ]
  },
  {
   "cell_type": "code",
   "execution_count": 2,
   "metadata": {},
   "outputs": [],
   "source": [
    "import os\n",
    "os.environ['PATH']+=':/usr/local/cuda/bin/'"
   ]
  },
  {
   "cell_type": "code",
   "execution_count": 3,
   "metadata": {},
   "outputs": [],
   "source": [
    "#Settings\n",
    "outfile = 'out.npz'\n",
    "Natoms = int(1e3)\n",
    "Ndet = 1024\n",
    "detz = 4  # in cm\n",
    "pixelsize = 75 # in um\n",
    "Nimg = 100\n",
    "E = 8000  # in ev\n",
    "rndphase = True\n",
    "rotangles = np.array([0,0,0]) / 180 * pi\n",
    "simtype = 'gridfcc'\n",
    "cuda = True\n",
    "a = 3.6  # in A"
   ]
  },
  {
   "cell_type": "code",
   "execution_count": 4,
   "metadata": {},
   "outputs": [
    {
     "name": "stdout",
     "output_type": "stream",
     "text": [
      "preparing\n",
      "[6, 6, 6]\n"
     ]
    }
   ],
   "source": [
    "print(\"preparing\")\n",
    "_a = a * 1e-4 # in um\n",
    "_detz = detz * 1e4 # in um\n",
    "k = 2 * pi / (1.24 / E)  # in 1/um\n",
    "N = Natoms\n",
    "if simtype == 'gridsc':\n",
    "    simobject = sim.simobj.gridsc(N, _a, E, rotangles)\n",
    "elif simtype == 'gridfcc':\n",
    "    simobject = sim.simobj.gridfcc(N, _a, E, rotangles)\n",
    "elif simtype == 'gridcuso4':\n",
    "    simobject = sim.simobj.gridcuso4(N, E, rotangles)\n",
    "else:\n",
    "    raise NotImplementedError(\"unknown object to simulate\")\n",
    "simobject.rndPhase = rndphase\n"
   ]
  },
  {
   "cell_type": "code",
   "execution_count": 5,
   "metadata": {},
   "outputs": [
    {
     "name": "stdout",
     "output_type": "stream",
     "text": [
      "simulating\n",
      "0.. 1.. 2.. 3.. 4.. 5.. 6.. 7.. 8.. 9.. 10.. 11.. 12.. 13.. 14.. 15.. 16.. 17.. 18.. 19.. 20.. 21.. 22.. 23.. 24.. 25.. 26.. 27.. 28.. 29.. 30.. 31.. 32.. 33.. 34.. 35.. 36.. 37.. 38.. 39.. 40.. 41.. 42.. 43.. 44.. 45.. 46.. 47.. 48.. 49.. 50.. 51.. 52.. 53.. 54.. 55.. 56.. 57.. 58.. 59.. 60.. 61.. 62.. 63.. 64.. 65.. 66.. 67.. 68.. 69.. 70.. 71.. 72.. 73.. 74.. 75.. 76.. 77.. 78.. 79.. 80.. 81.. 82.. 83.. 84.. 85.. 86.. 87.. 88.. 89.. 90.. 91.. 92.. 93.. 94.. 95.. 96.. 97.. 98.. 99.. "
     ]
    }
   ],
   "source": [
    "print(\"simulating\")\n",
    "if cuda:\n",
    "    result = sim.cuda.simulate(Nimg, simobject, Ndet, pixelsize, _detz, k)\n",
    "else:\n",
    "    print(\"using cpu\")\n",
    "    result = sim.cpu.simulate(Nimg, simobject, Ndet, pixelsize, _detz, k)\n",
    "result = np.abs(result * result.conjugate())"
   ]
  },
  {
   "cell_type": "code",
   "execution_count": 6,
   "metadata": {},
   "outputs": [
    {
     "name": "stdout",
     "output_type": "stream",
     "text": [
      "saving\n"
     ]
    }
   ],
   "source": [
    "print(\"saving\")\n",
    "np.savez_compressed(outfile, result = result, settings = ({\n",
    "    'Natoms': Natoms,\n",
    "    'Ndet': Ndet,\n",
    "    'detz': detz,\n",
    "    'Nimg': Nimg,\n",
    "    'a': a,\n",
    "    'pixelsize': pixelsize,\n",
    "    'E': E,\n",
    "    'rndphase': rndphase,\n",
    "    'rotangles': rotangles,\n",
    "    }, [simtype]))"
   ]
  },
  {
   "cell_type": "code",
   "execution_count": 7,
   "metadata": {},
   "outputs": [
    {
     "name": "stdout",
     "output_type": "stream",
     "text": [
      "done\n"
     ]
    }
   ],
   "source": [
    "print(\"done\")"
   ]
  }
 ],
 "metadata": {
  "kernelspec": {
   "display_name": "Python 3 (local3)",
   "language": "python",
   "name": "local3"
  },
  "language_info": {
   "codemirror_mode": {
    "name": "ipython",
    "version": 3
   },
   "file_extension": ".py",
   "mimetype": "text/x-python",
   "name": "python",
   "nbconvert_exporter": "python",
   "pygments_lexer": "ipython3",
   "version": "3.6.7"
  }
 },
 "nbformat": 4,
 "nbformat_minor": 2
}
