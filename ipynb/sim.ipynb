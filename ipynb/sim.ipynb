{
 "cells": [
  {
   "cell_type": "code",
   "execution_count": null,
   "metadata": {},
   "outputs": [],
   "source": [
    "import mkl\n",
    "\n",
    "vml_threads=mkl.domain_get_max_threads('vml')\n",
    "import idi.simulation as sim\n",
    "import numpy as np\n",
    "from numpy import pi\n",
    "from six import print_ as print\n",
    "\n",
    "!hostname\n",
    "import matplotlib.pyplot as plt\n",
    "import numexpr as ne\n",
    "\n",
    "%matplotlib inline\n",
    "mkl.domain_set_num_threads(vml_threads,'vml')\n",
    "import scipy.spatial"
   ]
  },
  {
   "cell_type": "markdown",
   "metadata": {},
   "source": [
    "### Settings"
   ]
  },
  {
   "cell_type": "code",
   "execution_count": null,
   "metadata": {},
   "outputs": [],
   "source": [
    "Natoms = int(1e7)\n",
    "Ndet = 1024\n",
    "detz = 30  # in cm\n",
    "pixelsize = 50  # in um\n",
    "Nimg = 10\n",
    "E = 6400  # in ev\n",
    "rotangles = np.array([0, 0, 0]) / 180 * pi\n",
    "cuda = True\n",
    "r = 20  # nm\n",
    "simtype = 'multisphere'\n",
    "rndphase = True\n",
    "outfile = 'idi20-loose-multi0.npz'\n",
    "fwhmfocal = 300e-3\n",
    "spacing = 10e-3\n",
    "\n",
    "# not used\n",
    "a = 3.6  # in A # not used for cuso4"
   ]
  },
  {
   "cell_type": "markdown",
   "metadata": {},
   "source": [
    "### Simulation"
   ]
  },
  {
   "cell_type": "code",
   "execution_count": null,
   "metadata": {},
   "outputs": [],
   "source": [
    "print(\"preparing\")\n",
    "_a = a * 1e-4  # in um\n",
    "_r = r * 1e-3  # in um\n",
    "\n",
    "_detz = detz * 1e4  # in um\n",
    "k = 2 * pi / (1.24 / E)  # in 1/um\n",
    "N = Natoms\n",
    "if simtype == 'gridsc':\n",
    "    simobject = sim.simobj.gridsc(N, _a, E, rotangles)\n",
    "elif simtype == 'gridfcc':\n",
    "    simobject = sim.simobj.gridfcc(N, _a, E, rotangles)\n",
    "elif simtype == 'gridcuso4':\n",
    "    simobject = sim.simobj.gridcuso4(N, E, rotangles)\n",
    "elif simtype == 'multisphere':\n",
    "    simobject = sim.simobj.multisphere(E=E, Natoms=N, rsphere=_r, fwhmfocal=fwhmfocal, spacing=spacing)\n",
    "else:\n",
    "    raise NotImplementedError(\"unknown object to simulate\")\n",
    "simobject.rndPhase = rndphase\n",
    "simobject.rndPos = True\n",
    "\n",
    "\n",
    "if cuda:\n",
    "    print('using gpu')\n",
    "    gen = sim.cuda.simulate_gen(simobject, Ndet, pixelsize, _detz, k)\n",
    "else:\n",
    "    print('using cpu')\n",
    "    gen = sim.cpu.simulate_gen(simobject, Ndet, pixelsize, _detz, k)"
   ]
  },
  {
   "cell_type": "code",
   "execution_count": null,
   "metadata": {},
   "outputs": [],
   "source": [
    "print(\"simulating\")\n",
    "\n",
    "\n",
    "def save(filename):\n",
    "    np.savez_compressed(\n",
    "        filename,\n",
    "        result=np.array(result),\n",
    "        settings=(\n",
    "            {\n",
    "                'Natoms': Natoms,\n",
    "                'Ndet': Ndet,\n",
    "                'detz': detz,\n",
    "                'Nimg': Nimg,\n",
    "                'a': a,\n",
    "                'r': r,\n",
    "                'pixelsize': pixelsize,\n",
    "                'E': E,\n",
    "                'rndphase': rndphase,\n",
    "                'rotangles': rotangles,\n",
    "                'spacing': spacing,\n",
    "                'fwhmfocal': fwhmfocal,\n",
    "            },\n",
    "            [simtype],\n",
    "        ),\n",
    "    )\n",
    "    print(f'\\n saved as {filename}')\n",
    "\n",
    "\n",
    "import time\n",
    "\n",
    "lastsave = time.time()\n",
    "savefile = 0\n",
    "result = []\n",
    "\n",
    "for i in range(Nimg):\n",
    "    print(i, end=\" \")\n",
    "    t = next(gen)\n",
    "    t = np.abs(t * t.conjugate())\n",
    "    result.append(t)\n",
    "    if time.time() - lastsave > 30 * 60:\n",
    "        of = f'{savefile}-{outfile}'\n",
    "        save(of)\n",
    "        savefile = (savefile + 1) % 2\n",
    "        lastsave = time.time()\n",
    "save(filename)"
   ]
  },
  {
   "cell_type": "code",
   "execution_count": null,
   "metadata": {},
   "outputs": [],
   "source": [
    "print(\"done\")"
   ]
  },
  {
   "cell_type": "markdown",
   "metadata": {},
   "source": [
    "## Plots"
   ]
  },
  {
   "cell_type": "code",
   "execution_count": null,
   "metadata": {},
   "outputs": [],
   "source": [
    "plt.matshow(np.log10(np.mean(result, axis=0)), vmax=0)\n",
    "plt.show()\n",
    "\n",
    "from idi.util import radial_profile\n",
    "\n",
    "rad = radial_profile(np.mean(result, axis=0))\n",
    "rad = rad - np.min(rad)\n",
    "plt.semilogy(rad[2:-10])\n",
    "plt.show()"
   ]
  },
  {
   "cell_type": "markdown",
   "metadata": {},
   "source": [
    "#### Show Simulation object"
   ]
  },
  {
   "cell_type": "code",
   "execution_count": null,
   "metadata": {},
   "outputs": [],
   "source": [
    "pos = simobject.get()\n",
    "print(simobject._debug)"
   ]
  },
  {
   "cell_type": "code",
   "execution_count": null,
   "metadata": {},
   "outputs": [],
   "source": [
    "%matplotlib inline\n",
    "import matplotlib.pyplot as plt\n",
    "from mpl_toolkits import mplot3d\n",
    "\n",
    "fig = plt.figure()\n",
    "ax = plt.axes(projection='3d')\n",
    "posf = pos[np.abs(pos[:, 2]) < 0.005]\n",
    "ax.scatter(posf[:, 0] * 1e4, posf[:, 1] * 1e4, posf[:, 2] * 1e4, s=0.01)\n",
    "ax.set_zlim(-1000, 1000)\n",
    "plt.show()\n",
    "\n",
    "fig = plt.figure()\n",
    "ax = plt.axes(projection='3d')\n",
    "ax.scatter(pos[:, 0] * 1e4, pos[:, 1] * 1e4, pos[:, 2] * 1e4, s=0.01)\n",
    "plt.show()"
   ]
  },
  {
   "cell_type": "code",
   "execution_count": null,
   "metadata": {},
   "outputs": [],
   "source": []
  }
 ],
 "metadata": {
  "kernelspec": {
   "display_name": "Python 3",
   "language": "python",
   "name": "python3"
  },
  "language_info": {
   "codemirror_mode": {
    "name": "ipython",
    "version": 3
   },
   "file_extension": ".py",
   "mimetype": "text/x-python",
   "name": "python",
   "nbconvert_exporter": "python",
   "pygments_lexer": "ipython3",
   "version": "3.7.7"
  }
 },
 "nbformat": 4,
 "nbformat_minor": 4
}
