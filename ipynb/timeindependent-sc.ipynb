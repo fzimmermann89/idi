{
 "cells": [
  {
   "cell_type": "code",
   "execution_count": 1,
   "metadata": {
    "scrolled": true
   },
   "outputs": [
    {
     "name": "stdout",
     "output_type": "stream",
     "text": [
      "psanagpu112\n"
     ]
    }
   ],
   "source": [
    "import os\n",
    "os.environ['PATH']+=':/usr/local/cuda/bin/' # cuda must be in path\n",
    "os.environ['CUDA_PATH']='/usr/local/cuda'\n",
    "\n",
    "import idi.simulation as sim\n",
    "import numpy as np\n",
    "from numpy import pi\n",
    "!hostname\n",
    "import matplotlib.pyplot as plt\n",
    "%matplotlib inline"
   ]
  },
  {
   "cell_type": "code",
   "execution_count": 2,
   "metadata": {},
   "outputs": [
    {
     "name": "stdout",
     "output_type": "stream",
     "text": [
      "/usr/local/cuda/bin/nvcc\n",
      "/usr/local/cuda/bin/nvcc\n",
      "/usr/local/cuda/bin//nvcc\n"
     ]
    }
   ],
   "source": [
    "!where nvcc"
   ]
  },
  {
   "cell_type": "code",
   "execution_count": 2,
   "metadata": {
    "scrolled": true
   },
   "outputs": [
    {
     "data": {
      "text/plain": [
       "16"
      ]
     },
     "execution_count": 2,
     "metadata": {},
     "output_type": "execute_result"
    }
   ],
   "source": [
    "import mkl\n",
    "mkl.domain_set_num_threads(8,'vml')\n",
    "mkl.set_num_threads(8)"
   ]
  },
  {
   "cell_type": "markdown",
   "metadata": {},
   "source": [
    "**Settings**"
   ]
  },
  {
   "cell_type": "code",
   "execution_count": 3,
   "metadata": {
    "scrolled": true
   },
   "outputs": [],
   "source": [
    "Natoms = int(1e5)\n",
    "Ndet = 4096\n",
    "detz = 14 # in cm\n",
    "pixelsize = 25 # in um\n",
    "Nimg = 100\n",
    "E = 9200  # in ev\n",
    "rotangles = np.array([0,0,0]) / 180 * pi\n",
    "cuda = True\n",
    "r = 5 #nm"
   ]
  },
  {
   "cell_type": "code",
   "execution_count": 5,
   "metadata": {},
   "outputs": [],
   "source": []
  },
  {
   "cell_type": "code",
   "execution_count": 6,
   "metadata": {},
   "outputs": [
    {
     "data": {
      "text/plain": [
       "1"
      ]
     },
     "execution_count": 6,
     "metadata": {},
     "output_type": "execute_result"
    }
   ],
   "source": []
  },
  {
   "cell_type": "markdown",
   "metadata": {},
   "source": [
    "**Simulation**"
   ]
  },
  {
   "cell_type": "code",
   "execution_count": 4,
   "metadata": {
    "scrolled": true
   },
   "outputs": [
    {
     "name": "stdout",
     "output_type": "stream",
     "text": [
      "preparing\n"
     ]
    }
   ],
   "source": [
    "print(\"preparing\")\n",
    "_detz = detz * 1e4 # in um\n",
    "k = 2 * pi / (1.24 / E)  # in 1/um\n",
    "N = Natoms\n",
    "_r = r * 1e-3 # in um\n",
    "_a = 5.6*1e-4\n",
    "repeats=[200,200,1000]\n",
    "simobject = sim.simobj.fcc(E,N,_a,repeats=repeats)\n",
    "simobject.rndPhase=True\n",
    "simobject.rndPos=False\n",
    "c=0.3 #um/fs\n",
    "tau=.1 #fs"
   ]
  },
  {
   "cell_type": "code",
   "execution_count": 12,
   "metadata": {},
   "outputs": [
    {
     "data": {
      "text/plain": [
       "dtype('complex128')"
      ]
     },
     "execution_count": 12,
     "metadata": {},
     "output_type": "execute_result"
    }
   ],
   "source": [
    "r.dtype"
   ]
  },
  {
   "cell_type": "code",
   "execution_count": null,
   "metadata": {},
   "outputs": [
    {
     "name": "stdout",
     "output_type": "stream",
     "text": [
      "0.. 1.. 2.. 3.. 4.. 5.. 6.. 7.. 8.. 9.. 10.. 11.. 12.. 13.. 14."
     ]
    }
   ],
   "source": [
    "r1=sim.cuda.simulate(Nimg,simobject,Ndet,pixelsize,_detz,k)\n",
    "r1=np.abs(r1)**2"
   ]
  },
  {
   "cell_type": "code",
   "execution_count": null,
   "metadata": {},
   "outputs": [],
   "source": [
    "np.savez_compressed('/reg/data/ana15/xpp/xppx37817/scratch/zimmf/msc/fcc_temp2_1.npz',r=r1,detz=_detz,pixelsize=pixelsize,a=_a,Natoms=Natoms,repeats=repeats,E=E,k=k)"
   ]
  },
  {
   "cell_type": "code",
   "execution_count": null,
   "metadata": {},
   "outputs": [],
   "source": []
  },
  {
   "cell_type": "code",
   "execution_count": null,
   "metadata": {},
   "outputs": [],
   "source": [
    "r2=sim.cuda.simulate(Nimg,simobject,Ndet,pixelsize,_detz,k)\n",
    "r2=np.abs(r2)**2\n"
   ]
  },
  {
   "cell_type": "code",
   "execution_count": null,
   "metadata": {},
   "outputs": [],
   "source": [
    "np.savez_compressed('/reg/data/ana15/xpp/xppx37817/scratch/zimmf/msc/fcc_temp2.npz',r=r2,detz=_detz,pixelsize=pixelsize,a=_a,Natoms=Natoms,repeats=repeats,E=E,k=k)"
   ]
  },
  {
   "cell_type": "code",
   "execution_count": null,
   "metadata": {},
   "outputs": [],
   "source": [
    "import idi.reconstruction as recon"
   ]
  },
  {
   "cell_type": "code",
   "execution_count": 51,
   "metadata": {},
   "outputs": [],
   "source": [
    "import idi.util as util\n",
    "r=util.rebin(np.concatenate((r1,r2)),[1,2,2])"
   ]
  },
  {
   "cell_type": "code",
   "execution_count": 9,
   "metadata": {},
   "outputs": [
    {
     "data": {
      "text/plain": [
       "'success'"
      ]
     },
     "execution_count": 9,
     "metadata": {},
     "output_type": "execute_result"
    }
   ],
   "source": [
    "import mkl\n",
    "mkl.domain_set_num_threads(8,'fft')"
   ]
  },
  {
   "cell_type": "code",
   "execution_count": 30,
   "metadata": {},
   "outputs": [
    {
     "name": "stdout",
     "output_type": "stream",
     "text": [
      "0 1 2 3 4 5 6 7 8 9 10 11 12 13 14 15 16 17 18 19 20 21 22 23 24 25 26 27 28 29 30 31 32 33 34 35 36 37 38 39 40 41 42 43 44 45 46 47 48 49 50 51 52 53 54 55 56 57 58 59 60 61 62 63 64 65 66 67 68 69 70 71 72 73 74 75 76 77 78 79 80 81 82 83 84 85 86 87 88 89 90 91 92 93 94 95 96 97 98 99 100 101 102 103 104 105 106 107 108 109 110 111 112 113 114 115 116 117 118 119 120 121 122 123 124 125 126 127 128 129 130 131 132 133 134 135 136 137 138 139 140 141 142 143 144 145 146 147 148 149 150 151 152 153 154 155 156 157 158 159 160 161 162 163 164 165 166 167 168 169 170 171 172 173 174 175 176 177 178 179 180 181 182 183 184 185 186 187 188 189 190 191 192 193 194 195 196 197 198 199 "
     ]
    }
   ],
   "source": [
    "corr=recon.ft.corr(r,_detz/(2*pixelsize),True)/len(r)"
   ]
  },
  {
   "cell_type": "code",
   "execution_count": 34,
   "metadata": {},
   "outputs": [],
   "source": [
    "corr=recon.ft.unwrap(corr)"
   ]
  },
  {
   "cell_type": "code",
   "execution_count": 35,
   "metadata": {},
   "outputs": [
    {
     "name": "stdout",
     "output_type": "stream",
     "text": [
      ". "
     ]
    }
   ],
   "source": [
    "norm=recon.ft.unwrap(recon.ft.corr(np.mean(r,0),_detz/(2*pixelsize),True))"
   ]
  },
  {
   "cell_type": "code",
   "execution_count": null,
   "metadata": {},
   "outputs": [],
   "source": [
    "import gc\n",
    "gc.collect()"
   ]
  },
  {
   "cell_type": "code",
   "execution_count": 36,
   "metadata": {},
   "outputs": [
    {
     "name": "stderr",
     "output_type": "stream",
     "text": [
      "<ipython-input-36-b02314c5cb7f>:1: RuntimeWarning: divide by zero encountered in true_divide\n",
      "  t=corr[0]/norm[0]\n",
      "<ipython-input-36-b02314c5cb7f>:1: RuntimeWarning: invalid value encountered in true_divide\n",
      "  t=corr[0]/norm[0]\n"
     ]
    }
   ],
   "source": [
    "t=corr[0]/norm[0]\n",
    "t[norm[0]<1e-20]=np.nan"
   ]
  },
  {
   "cell_type": "code",
   "execution_count": 24,
   "metadata": {},
   "outputs": [
    {
     "data": {
      "text/plain": [
       "0.02085183474140936"
      ]
     },
     "execution_count": 24,
     "metadata": {},
     "output_type": "execute_result"
    }
   ],
   "source": [
    "np.nanmin(t)"
   ]
  },
  {
   "cell_type": "code",
   "execution_count": null,
   "metadata": {},
   "outputs": [],
   "source": [
    "plt.rcParams['figure.figsize']=20,20\n",
    "plt.matshow(t-1,vmin=0,vmax=.01)\n",
    "plt.colorbar()"
   ]
  },
  {
   "cell_type": "code",
   "execution_count": null,
   "metadata": {},
   "outputs": [],
   "source": [
    "plt.rcParams['figure.figsize']=20,20\n",
    "plt.matshow(t-1,vmin=0,vmax=.01)\n",
    "plt.colorbar()"
   ]
  }
 ],
 "metadata": {
  "kernelspec": {
   "display_name": "local4 simulation(py38)",
   "language": "python",
   "name": "local4-env"
  },
  "language_info": {
   "codemirror_mode": {
    "name": "ipython",
    "version": 3
   },
   "file_extension": ".py",
   "mimetype": "text/x-python",
   "name": "python",
   "nbconvert_exporter": "python",
   "pygments_lexer": "ipython3",
   "version": "3.8.5"
  }
 },
 "nbformat": 4,
 "nbformat_minor": 4
}
