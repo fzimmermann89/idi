{
 "cells": [
  {
   "cell_type": "code",
   "execution_count": null,
   "metadata": {
    "scrolled": true
   },
   "outputs": [],
   "source": [
    "import os\n",
    "os.environ['PATH']+=':/usr/local/cuda/bin/' # cuda must be in path\n",
    "os.environ['CUDA_PATH']='/usr/local/cuda'\n",
    "\n",
    "import idi.simulation as sim\n",
    "import numpy as np\n",
    "from numpy import pi\n",
    "!hostname\n",
    "import matplotlib.pyplot as plt\n",
    "%matplotlib inline"
   ]
  },
  {
   "cell_type": "code",
   "execution_count": null,
   "metadata": {},
   "outputs": [],
   "source": [
    "!where nvcc"
   ]
  },
  {
   "cell_type": "code",
   "execution_count": null,
   "metadata": {
    "scrolled": true
   },
   "outputs": [],
   "source": [
    "import mkl\n",
    "mkl.domain_set_num_threads(8,'vml')\n",
    "mkl.set_num_threads(8)"
   ]
  },
  {
   "cell_type": "markdown",
   "metadata": {},
   "source": [
    "**Settings**"
   ]
  },
  {
   "cell_type": "code",
   "execution_count": null,
   "metadata": {
    "scrolled": true
   },
   "outputs": [],
   "source": [
    "Natoms = int(1e5)\n",
    "Ndet = 2048*2\n",
    "detz = 9 # in cm\n",
    "pixelsize = 50 # in um\n",
    "Nimg = 10\n",
    "E = 9200  # in ev\n",
    "rotangles = np.array([0,0,0]) / 180 * pi\n",
    "cuda = True\n",
    "r = 5.6 #nm for sphere, A for crystal\n",
    "repeats=np.array([400,400,500])//10\n",
    "fwhm=np.array([0.1,0.1,0.2])/10"
   ]
  },
  {
   "cell_type": "code",
   "execution_count": null,
   "metadata": {},
   "outputs": [],
   "source": []
  },
  {
   "cell_type": "code",
   "execution_count": null,
   "metadata": {},
   "outputs": [],
   "source": []
  },
  {
   "cell_type": "code",
   "execution_count": null,
   "metadata": {},
   "outputs": [],
   "source": []
  },
  {
   "cell_type": "code",
   "execution_count": null,
   "metadata": {},
   "outputs": [],
   "source": []
  },
  {
   "cell_type": "code",
   "execution_count": null,
   "metadata": {},
   "outputs": [],
   "source": []
  },
  {
   "cell_type": "markdown",
   "metadata": {},
   "source": [
    "**Simulation**"
   ]
  },
  {
   "cell_type": "code",
   "execution_count": null,
   "metadata": {
    "scrolled": true
   },
   "outputs": [],
   "source": [
    "print(\"preparing\")\n",
    "_detz = detz * 1e4 # in um\n",
    "k = 2 * pi / (1.24 / E)  # in 1/um\n",
    "N = Natoms\n",
    "_r = r * 1e-3 # in um\n",
    "_a = r * 1e-4\n",
    "\n",
    "simobject = sim.simobj.fcc(E,N,_a,repeats=repeats,fwhm=fwhm)\n",
    "simobject.rndPhase=True\n",
    "simobject.rndPos=False\n",
    "#c=0.3 #um/fs\n",
    "#tau=.1 #fs"
   ]
  },
  {
   "cell_type": "code",
   "execution_count": null,
   "metadata": {},
   "outputs": [],
   "source": [
    "r1=sim.cuda.simulate(Nimg,simobject,Ndet,pixelsize,_detz,k)\n",
    "r1=np.abs(r1)**2"
   ]
  },
  {
   "cell_type": "code",
   "execution_count": null,
   "metadata": {},
   "outputs": [],
   "source": [
    "np.savez_compressed('/reg/data/ana15/xpp/xppx37817/scratch/zimmf/msc/fcc_temp2_1.npz',r=r1,detz=_detz,pixelsize=pixelsize,a=_a,Natoms=Natoms,repeats=repeats,E=E,k=k)"
   ]
  },
  {
   "cell_type": "code",
   "execution_count": null,
   "metadata": {},
   "outputs": [],
   "source": []
  },
  {
   "cell_type": "code",
   "execution_count": null,
   "metadata": {},
   "outputs": [],
   "source": [
    "import idi.reconstruction as recon"
   ]
  },
  {
   "cell_type": "code",
   "execution_count": null,
   "metadata": {},
   "outputs": [],
   "source": [
    "import idi.util as util\n",
    "r=util.rebin(r1,[1,2,2])"
   ]
  },
  {
   "cell_type": "code",
   "execution_count": null,
   "metadata": {},
   "outputs": [],
   "source": [
    "import mkl\n",
    "mkl.domain_set_num_threads(8,'fft')"
   ]
  },
  {
   "cell_type": "code",
   "execution_count": null,
   "metadata": {},
   "outputs": [],
   "source": [
    "corr=recon.ft.corr(r,_detz/(2*pixelsize),True)/len(r)"
   ]
  },
  {
   "cell_type": "code",
   "execution_count": null,
   "metadata": {},
   "outputs": [],
   "source": [
    "corr=recon.ft.unwrap(corr)"
   ]
  },
  {
   "cell_type": "code",
   "execution_count": null,
   "metadata": {},
   "outputs": [],
   "source": [
    "norm=recon.ft.unwrap(recon.ft.corr(np.mean(r,0),_detz/(2*pixelsize),True))"
   ]
  },
  {
   "cell_type": "code",
   "execution_count": null,
   "metadata": {},
   "outputs": [],
   "source": [
    "import gc\n",
    "gc.collect()"
   ]
  },
  {
   "cell_type": "code",
   "execution_count": null,
   "metadata": {},
   "outputs": [],
   "source": [
    "t=corr[0]/norm[0]\n",
    "t[norm[0]<1e-20]=np.nan"
   ]
  },
  {
   "cell_type": "code",
   "execution_count": null,
   "metadata": {},
   "outputs": [],
   "source": [
    "plt.rcParams['figure.figsize']=20,20\n",
    "plt.matshow(t-1,vmin=0,vmax=.01)\n",
    "plt.colorbar()"
   ]
  }
 ],
 "metadata": {
  "kernelspec": {
   "display_name": "local4 simulation(py38)",
   "language": "python",
   "name": "local4-env"
  },
  "language_info": {
   "codemirror_mode": {
    "name": "ipython",
    "version": 3
   },
   "file_extension": ".py",
   "mimetype": "text/x-python",
   "name": "python",
   "nbconvert_exporter": "python",
   "pygments_lexer": "ipython3",
   "version": "3.8.5"
  }
 },
 "nbformat": 4,
 "nbformat_minor": 4
}
